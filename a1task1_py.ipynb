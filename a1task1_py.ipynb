{
  "nbformat": 4,
  "nbformat_minor": 0,
  "metadata": {
    "colab": {
      "name": "a1task1.py",
      "provenance": [],
      "collapsed_sections": [],
      "toc_visible": true,
      "include_colab_link": true
    },
    "kernelspec": {
      "name": "python3",
      "display_name": "Python 3"
    },
    "language_info": {
      "name": "python"
    }
  },
  "cells": [
    {
      "cell_type": "markdown",
      "metadata": {
        "id": "view-in-github",
        "colab_type": "text"
      },
      "source": [
        "<a href=\"https://colab.research.google.com/github/carlos-navarro-naranjo/Handwritten-Recognition--Deep-Learning/blob/main/a1task1_py.ipynb\" target=\"_parent\"><img src=\"https://colab.research.google.com/assets/colab-badge.svg\" alt=\"Open In Colab\"/></a>"
      ]
    },
    {
      "cell_type": "code",
      "execution_count": null,
      "metadata": {
        "colab": {
          "base_uri": "https://localhost:8080/"
        },
        "id": "inxYvhinL2Vx",
        "outputId": "4f8c6451-6370-4a82-e0fa-ab6a50a2524b"
      },
      "outputs": [
        {
          "output_type": "stream",
          "name": "stdout",
          "text": [
            "Mounted at /content/drive\n"
          ]
        }
      ],
      "source": [
        "from google.colab import drive\n",
        "drive.mount('/content/drive')\n"
      ]
    },
    {
      "cell_type": "code",
      "source": [
        "import pandas as pd\n",
        "from sklearn.linear_model import LinearRegression\n",
        "from sklearn.model_selection import train_test_split\n",
        "from sklearn.metrics import mean_squared_error\n",
        "from sklearn.preprocessing import PolynomialFeatures\n",
        "import matplotlib.pyplot as plt"
      ],
      "metadata": {
        "id": "4QHjifTwO13V"
      },
      "execution_count": null,
      "outputs": []
    },
    {
      "cell_type": "code",
      "source": [
        "fname = \"/content/drive/MyDrive/a1_stu_data.csv\"\n",
        "data = pd.read_csv(fname)\n",
        "features = {'x1','x2'}\n",
        "response = {'y'}\n",
        "X = data[features]\n",
        "y = data[response]\n",
        "X_train, X_test, y_train, y_test = train_test_split(X, y, train_size=0.8,\n",
        "random_state=42)"
      ],
      "metadata": {
        "id": "NHArDMkyO6pt"
      },
      "execution_count": null,
      "outputs": []
    },
    {
      "cell_type": "code",
      "source": [
        "##Linear Model\n",
        "linear_model = LinearRegression()\n",
        "linear_model.fit(X,y)\n",
        "\n",
        "#MSE TEST\n",
        "y_test_pred_1 = linear_model.predict(X_test)\n",
        "mse_test_linear = mean_squared_error(y_test, y_test_pred_1)\n",
        "\n",
        "print('\\nFor linear model, MSE on the test set is ', mse_test_linear)\n",
        "\n",
        "#MSE TRAINING\n",
        "y_train_pred = linear_model.predict(X_train)\n",
        "mse_train_linear = mean_squared_error(y_train, y_train_pred)\n",
        "print('\\nFor linear model, MSE on the trainining set is ', mse_train_linear)\n",
        "print(linear_model)\n",
        "print (type(linear_model).__name__)\n",
        "print('\\nWeights of the linear model', linear_model.coef_)\n"
      ],
      "metadata": {
        "colab": {
          "base_uri": "https://localhost:8080/"
        },
        "id": "eTh75xBcyTTr",
        "outputId": "0b48fdd5-6dcd-4e58-a035-41d02a434d97"
      },
      "execution_count": null,
      "outputs": [
        {
          "output_type": "stream",
          "name": "stdout",
          "text": [
            "\n",
            "For linear model, MSE on the test set is  1.6955052548157856\n",
            "\n",
            "For linear model, MSE on the trainining set is  1.5294815812195999\n",
            "LinearRegression()\n",
            "LinearRegression\n",
            "\n",
            "Weights of the linear model [[ 0.05740014 -0.11502455]]\n"
          ]
        }
      ]
    },
    {
      "cell_type": "code",
      "source": [
        "##Quadratic Model\n",
        "quadratic_model = LinearRegression(fit_intercept=False)\n",
        "quad = PolynomialFeatures(2)\n",
        "quad.fit(X)\n",
        "quadratic_model.fit(quad.transform(X_train), y_train)\n",
        "print(quadratic_model)\n",
        "#MSE TEST\n",
        "y_test_pred_2 = quadratic_model.predict(quad.transform(X_test))\n",
        "mse_test_quad = mean_squared_error(y_test, y_test_pred_2)\n",
        "print('\\nTerms in the quadratic model: ', quad.n_output_features_)\n",
        "print('For quadratic model, MSE on the test set is ', mse_test_quad)\n",
        "\n",
        "#MSE TRAINING\n",
        "y_train_pred = quadratic_model.predict(quad.transform(X_train))\n",
        "mse_train_quad = mean_squared_error(y_train, y_train_pred)\n",
        "print('For quadratic model, MSE on the training set is ', mse_train_quad)\n",
        "print(quadratic_model)\n",
        "print (type(quadratic_model).__name__)\n",
        "print('\\nWeights of the quadratic model', quadratic_model.coef_)"
      ],
      "metadata": {
        "colab": {
          "base_uri": "https://localhost:8080/"
        },
        "id": "RqxWRNoW1JhO",
        "outputId": "d04108e5-5d43-4af7-ecdc-23d55d49ebfb"
      },
      "execution_count": null,
      "outputs": [
        {
          "output_type": "stream",
          "name": "stdout",
          "text": [
            "LinearRegression(fit_intercept=False)\n",
            "\n",
            "Terms in the quadratic model:  6\n",
            "For quadratic model, MSE on the test set is  0.2507355550757261\n",
            "For quadratic model, MSE on the training set is  0.18961838852504748\n",
            "LinearRegression(fit_intercept=False)\n",
            "LinearRegression\n",
            "\n",
            "Weights of the quadratic model [[ 1.65930428 -0.00548821 -0.03633052  0.06246565 -0.01442164 -0.64184525]]\n"
          ]
        }
      ]
    },
    {
      "cell_type": "code",
      "source": [
        "##Cubic Model\n",
        "poly3 = PolynomialFeatures(degree=3)\n",
        "model3 = LinearRegression(fit_intercept=False)\n",
        "model3.fit(poly3.fit_transform(X_train), y_train)\n",
        "#MSE TEST\n",
        "y_test_pred_3 = model3.predict(poly3.transform(X_test))\n",
        "mse_test_cubic = mean_squared_error(y_test, y_test_pred_3)\n",
        "print('For cubic model, MSE on the test set is', mse_test_cubic)\n",
        "#MSE TRAINING\n",
        "y_train_pred = model3.predict(poly3.transform(X_train))\n",
        "mse_train_cubic = mean_squared_error(y_train, y_train_pred)\n",
        "print('For cubic model, MSE on the training set is', mse_train_cubic)\n",
        "print(model3)\n",
        "print (type(model3).__name__)\n",
        "print('\\nWeights of the cubic model', model3.coef_)"
      ],
      "metadata": {
        "colab": {
          "base_uri": "https://localhost:8080/"
        },
        "id": "62R8jzmU6xBL",
        "outputId": "9757c519-6eb2-4463-8459-605f35513145"
      },
      "execution_count": null,
      "outputs": [
        {
          "output_type": "stream",
          "name": "stdout",
          "text": [
            "For cubic model, MSE on the test set is 0.23124761127547794\n",
            "For cubic model, MSE on the training set is 0.1799753010011326\n",
            "LinearRegression(fit_intercept=False)\n",
            "LinearRegression\n",
            "\n",
            "Weights of the cubic model [[ 1.6279406  -0.11325296  0.03354691  0.07205569 -0.03191477 -0.62676789\n",
            "   0.01365738 -0.02256945  0.03052663 -0.00785619]]\n"
          ]
        }
      ]
    },
    {
      "cell_type": "code",
      "source": [
        "tuple1=(linear_model, mse_train_linear, mse_test_linear, quadratic_model, mse_train_quad, mse_test_quad, model3, mse_train_cubic, mse_test_cubic)\n",
        "import pickle\n",
        "pickle.dump( tuple1, open('a1_results.sav', 'wb'))"
      ],
      "metadata": {
        "id": "XgYK4b-6BaCq"
      },
      "execution_count": null,
      "outputs": []
    }
  ]
}